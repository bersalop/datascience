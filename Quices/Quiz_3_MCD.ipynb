{
 "cells": [
  {
   "cell_type": "markdown",
   "metadata": {
    "colab_type": "text",
    "id": "TGvdZZ7C16o5"
   },
   "source": [
    "# Matemática para Ciencia de los Datos\n",
    "# Quiz 3\n",
    "\n",
    "María Auxiliadora Mora\n",
    "Instituto Tecnológico de Costa Rica, \n",
    "\n",
    "Medio de entrega: Por medio del TEC-Digital.\n",
    "\n",
    "Entregables: Un archivo en jupyter ( .IPYNB ). \n",
    "\n",
    "Modo de trabajo: Individual.\n",
    "\n",
    "**Nombre completo:** \n",
    "\n",
    "---\n",
    "\n",
    "\n",
    "\n",
    "Resumen: En el presente quiz se repasan varios conceptos elementales respecto a optimización.\n",
    "\n",
    "\n",
    "---\n"
   ]
  },
  {
   "cell_type": "markdown",
   "metadata": {},
   "source": [
    "**Pregunta 1** \n",
    "\n",
    "\n",
    "Para las siguientes funciones:\n",
    "\n",
    "Función 1:\n",
    "\n",
    "$f_{1}\\left(x_{1},x_{2}\\right)=\\left(x_{1}-0.7\\right)^{2}+\\left(x_{2}-0.5\\right)^{2}$\n",
    "\n",
    "\n",
    "Función 2: \n",
    "\n",
    "$f_{2}\\left(x_{1},x_{2}\\right)=x_{1}e^{\\left(-x_{1}^{2}-x_{2}^{2}\\right)}$\n",
    "\n",
    "\n",
    "\n",
    "Realice lo siguiente:\n",
    "\n",
    "1. En python, cree una función que le permita graficar las funciones anteriores. Utilizando la función en python genere dos gráficos, uno para cada función ($f_{1}$ y $f_{2}$). **(10 puntos)**\n",
    "\n",
    "2. En una celda de texto, indique si las funciones anteriores son convexas o no, y si aprecia puntos mínimos, puntos máximos y puntos silla. **(10 puntos)**\n"
   ]
  },
  {
   "cell_type": "markdown",
   "metadata": {},
   "source": [
    "**Pregunta 2**\n",
    "\n",
    "Para la función  $f_{1}\\left(x_{1},x_{2}\\right)=x_{1}^4 + x_{2}^4$\n",
    "\n",
    "\n",
    "1. Realice lo siguiente:\n",
    "\n",
    " - Grafique la función. **(5 puntos)**\n",
    "\n",
    " - Calcule el vector gradiente manualmente (en una celda de texto). **(10 puntos)**\n",
    "\n",
    " - Calcule la matriz Hessiana manualmente (en una celda de texto). **(10 puntos)**\n",
    "\n",
    " - Evalúe el resultado obtenido en el punto anterior en el punto ($x_{1},x_{2}$), $=\\left(4,4\\right)$. Luego aplique el criterio de la segunda derivada parcial ¿qué conclusiones saca para ese punto? (investigue) **(10 puntos)**\n",
    "\n",
    "\n",
    "2. En python, y para los resultados obtenidos en esta pregunta, implemente una función que realice el siguiente cálculo utilizado el algoritmo de Newton-Raphson: **(5 puntos)**\n",
    "\\begin{equation}\n",
    "\\Delta\\overrightarrow{x}=-\\left[H_{\\overrightarrow{x}}f\\left(\\overrightarrow{x}\\left(t\\right)\\right)\\right]^{-1}\\nabla_{\\overrightarrow{x}}f\\left(\\overrightarrow{x}\\left(t\\right)\\right)\n",
    "\\end{equation}\n",
    "\n",
    "\n",
    "3. Aplique el algoritmo de Newton-Raphson para encontrar puntos de inflexión para la función $f_{1}$, proponga un punto $x_{0}$ y aplíque el algoritmo a partir del punto. **(5 puntos extra)**\n"
   ]
  },
  {
   "cell_type": "code",
   "execution_count": null,
   "metadata": {},
   "outputs": [],
   "source": []
  }
 ],
 "metadata": {
  "colab": {
   "collapsed_sections": [],
   "name": "Quiz_1_Matemática_para_ciencia_de_los_datos.ipynb",
   "provenance": []
  },
  "kernelspec": {
   "display_name": "Python 3",
   "language": "python",
   "name": "python3"
  },
  "language_info": {
   "codemirror_mode": {
    "name": "ipython",
    "version": 3
   },
   "file_extension": ".py",
   "mimetype": "text/x-python",
   "name": "python",
   "nbconvert_exporter": "python",
   "pygments_lexer": "ipython3",
   "version": "3.8.8"
  }
 },
 "nbformat": 4,
 "nbformat_minor": 4
}
