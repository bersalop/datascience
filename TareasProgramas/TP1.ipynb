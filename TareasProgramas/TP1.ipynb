{
 "cells": [
  {
   "cell_type": "markdown",
   "metadata": {
    "id": "GItxU96mTk16"
   },
   "source": [
    "# Matemática para Ciencia de los Datos\n",
    "# Trabajo práctico 1 (TP1)\n",
    "\n",
    "María Auxiliadora Mora\n",
    "\n",
    "Instituto Tecnológico de Costa Rica, \n",
    "\n",
    "Medio de entrega:  TecDigital.\n",
    "\n",
    "Entregables: Un archivo jupyter \n",
    "\n",
    "Modo de trabajo: En grupos de una o dos personas.\n",
    "\n",
    "---\n",
    "Objetivo: El presente trabajo práctico tiene como objetivo repasar aspectos básicos del álgebra lineal, como sistemas lineales y vectores, usando el lenguaje Python, con la librería Pytorch.\n",
    "\n",
    "Utilice celdas de texto para explicaciones amplias de su respuesta y en las celdas de código documente este con comentarios explicativos de lo que realiza el programa.\n",
    "\n",
    "En cada función, incluya un encabezado que documente las entradas, salidas y lo que realiza la función.\n"
   ]
  },
  {
   "cell_type": "markdown",
   "metadata": {
    "id": "i57DBE8tEBS_"
   },
   "source": [
    "---\n",
    "\n",
    "**Pregunta 1 (15 puntos, 5 pts c/u)**\n",
    "\n",
    "Demuestre de forma matemática (sin programar y utilizando markdown) si los siguientes sistemas $L\\left\\{ \\cdot\\right\\}$  (con entrada $u(t)$ y salida $g(t)$) son lineales o no lineales. Si los sistemas son no lineales puede demostrarlo por contra-ejemplo.\n",
    "\n",
    "  a)$g\\left(t\\right)=\\log _{10} u(t)$\n",
    "\n",
    "  b)$g\\left(t\\right)= |u(t) |$\n",
    "  \n",
    "  c) $g\\left(t\\right)= \\tanh(u(t))=\\frac{e^{u(t)}-e^{-u(t)}}{e^{u(t)}+e^{-u(t)}} $\n",
    "\n",
    "Donde | | corresponde al valor absoluto.\n",
    "\n"
   ]
  },
  {
   "cell_type": "markdown",
   "metadata": {},
   "source": [
    "**Respuestas Pregunta 1**"
   ]
  },
  {
   "cell_type": "markdown",
   "metadata": {},
   "source": [
    "**1a)** $g\\left(t\\right)=\\log _{10} u(t)$\n",
    "  \n",
    "$L\\left\\{ \\alpha f_{1}\\left(x\\right)+\\beta f_{2}\\left(x\\right)\\right\\} =?\\alpha L\\left\\{ f_{1}(x)\\right\\} +\\beta L\\left\\{ f_{2}(x)\\right\\}$\n",
    "  \n",
    "$\\log_{10}\\left(\\alpha u_{1}(t)+\\beta u_{2}(t)\\right)=?\\alpha\\,\\log_{10}\\,u_{1}(t)+\\beta\\,\\log_{10}\\,u_{2}(t)$\n",
    "\n",
    "$\\log_{10}\\left(\\alpha u_{1}(t)+\\beta u_{2}(t)\\right)=?\\log_{10}\\,u_{1}(t)^{\\alpha}+\\log_{10}\\,u_{2}(t)^{\\beta}$\n",
    "\n",
    "$\\log_{10}\\left(\\alpha u_{1}(t)+\\beta u_{2}(t)\\right)=?\\log_{10}\\,(u_{1}(t)^{\\alpha}u_{2}(t)^{\\beta})$\n",
    "  \n",
    "  \n",
    "  \n",
    "  por lo tanto el sistema no es lineal. \n",
    "  \n",
    "  "
   ]
  },
  {
   "cell_type": "markdown",
   "metadata": {},
   "source": [
    "**1b)** $g\\left(t\\right)= |u(t) |$\n",
    "\n",
    "$L\\left\\{ \\alpha f_{1}\\left(x\\right)+\\beta f_{2}\\left(x\\right)\\right\\} =?\\alpha L\\left\\{ f_{1}(x)\\right\\} +\\beta L\\left\\{ f_{2}(x)\\right\\}$\n",
    "\n",
    "$\\left|\\alpha u_{1}(t)+\\beta u_{2}(t)\\right|=?\\alpha\\,\\left|u_{1}(t)\\right|+\\beta\\,\\left|u_{2}(t)\\right|$\n",
    "\n",
    "Contraejemplo:  Si $\\alpha<0,\\beta<0$\n",
    "\n",
    "Siempre $\\left|\\alpha u_{1}(t)+\\beta u_{2}(t)\\right|\\geq0$\n",
    "\n",
    "y $\\alpha\\,\\left|u_{1}(t)\\right|+\\beta\\,\\left|u_{2}(t)\\right|<0$\n",
    "\n",
    "\n",
    "\n",
    "por lo tanto el sistema no es lineal. "
   ]
  },
  {
   "cell_type": "markdown",
   "metadata": {},
   "source": [
    "**1c)** $g\\left(t\\right)= \\tanh(u(t))=\\frac{e^{u(t)}-e^{-u(t)}}{e^{u(t)}+e^{-u(t)}} $\n",
    "\n",
    "$L\\left\\{ \\alpha f_{1}\\left(x\\right)+\\beta f_{2}\\left(x\\right)\\right\\} =?\\alpha L\\left\\{ f_{1}(x)\\right\\} +\\beta L\\left\\{ f_{2}(x)\\right\\}$\n",
    "\n",
    "$\\frac{e^{\\alpha u_{1}(t)+\\beta u_{2}(t)}-e^{-\\alpha u_{1}(t)-\\beta u_{2}(t)}}{e^{\\alpha u_{1}(t)+\\beta u_{2}(t)}+e^{-\\alpha u_{1}(t)-\\beta u_{2}(t)}}=?\\alpha\\left(\\frac{e^{u_{1}(t)}-e^{-u_{1}(t)}}{e^{u_{1}(t)}+e^{-u_{1}(t)}}\\right)+\\beta\\left(\\frac{e^{u_{2}(t)}-e^{-u_{2}(t)}}{e^{u_{2}(t)}+e^{-u_{2}(t)}}\\right)$\n",
    "\n",
    "$\\frac{e^{\\alpha u_{1}(t)+\\beta u_{2}(t)}-e^{-\\alpha u_{1}(t)-\\beta u_{2}(t)}}{e^{\\alpha u_{1}(t)+\\beta u_{2}(t)}+e^{-\\alpha u_{1}(t)-\\beta u_{2}(t)}}=?\\frac{\\alpha(e^{u_{1}(t)}-e^{-u_{1}(t)})(e^{u_{2}(t)}+e^{-u_{2}(t)})+\\beta(e^{u_{2}(t)}-e^{-u_{2}(t)})(e^{u_{1}(t)}+e^{-u_{1}(t)})}{(e^{u_{1}(t)}+e^{-u_{1}(t)})(e^{u_{2}(t)}+e^{-u_{2}(t)})}$\n",
    "  \n",
    "por lo tanto el sistema no es lineal. "
   ]
  },
  {
   "cell_type": "markdown",
   "metadata": {
    "id": "X9NgZBKkEBTA"
   },
   "source": [
    "---\n",
    "\n",
    "**Pregunta 2 (25 puntos, 5 pts c/u)**\n",
    "\n",
    "Sean los siguientes vectores:\n",
    "\n",
    "$\\vec{v}_{1}=\\begin{bmatrix}-0.3\\\\\n",
    "0.8\\\\\n",
    "0.1\n",
    "\\end{bmatrix}, \\vec{v}_{2}=\\begin{bmatrix}0.5\\\\\n",
    "0.2\\\\\n",
    "0.4\n",
    "\\end{bmatrix} y \\vec{v}_{3}=\\begin{bmatrix}\\frac{1}{\\sqrt{2}}\\\\\n",
    "\\frac{-1}{\\sqrt{2}}\\\\\n",
    "0\n",
    "\\end{bmatrix} $\n",
    "\n",
    "Resuelva los siguientes ejercicios:\n",
    "\n",
    "a) Graficación de vectores. Usando Python grafique juntos los vectores anteriores. \n",
    "\n",
    "b) Implemente una función en Python, utilizando tensores de Pytorch, que calcule el ángulo en grados entre vectores. Pruebe su función calculando el ángulo entre los vectores $\\vec{v}_{1}y \\vec{v}_{2,}\\vec{v}_{2}y \\vec{v}_{3}$. Implemente la fórmula sin usar las funciones correspondientes de la biblioteca (es decir deben programar la fórmula del cálculo del ángulo).\n",
    "\n",
    "c) Calcule la distancia en $\\ell_{1}$y$\\ell_{2}$ entre los vectores $\\vec{v}_{1}$y$\\vec{v}_{2,}\\vec{v}_{2}y\\vec{v}_{3}$, implementando la fórmula con tensores de Pytorch, sin usar las funciones correspondientes de la biblioteca. Compare el resultado obtenido con el uso de la función torch.norm.\n",
    "\n",
    "d) Demuestre cuáles de los vectores anteriores son unitarios.\n",
    "\n",
    "e) Implemente una función, con tensores de Pytorch, que calcule la dirección de un vector en $\\mathbb{R}^n$.\n"
   ]
  },
  {
   "cell_type": "markdown",
   "metadata": {},
   "source": [
    "**Respuestas Pregunta 2**"
   ]
  },
  {
   "cell_type": "markdown",
   "metadata": {
    "id": "psNmvBv3EeJR"
   },
   "source": [
    "**2a)** Graficación de vectores"
   ]
  },
  {
   "cell_type": "code",
   "execution_count": 11,
   "metadata": {
    "id": "DD9OTTMOEBTB",
    "outputId": "d92801bf-35e3-48d8-c19b-f235c31bef72",
    "scrolled": false
   },
   "outputs": [
    {
     "data": {
      "image/png": "[encoded data removed]",
      "text/plain": [
       "<Figure size 432x288 with 1 Axes>"
      ]
     },
     "metadata": {
      "needs_background": "light"
     },
     "output_type": "display_data"
    }
   ],
   "source": [
    "#Importamos las librerias matplotlib, numpy y torch\n",
    "import matplotlib.pyplot as plt\n",
    "from mpl_toolkits.mplot3d import Axes3D\n",
    "import numpy as np \n",
    "import torch \n",
    "from math import sqrt\n",
    "\n",
    "#Definimos los tres vectores\n",
    "v1 = torch.tensor( [-0.3 , 0.8, 0.1 ]) \n",
    "v2 = torch.tensor( [0.5 , 0.2, 0.4 ]) \n",
    "v3 = torch.tensor( [1.0/sqrt(2) , -1.0/sqrt(2), 0.0 ]) \n",
    "\n",
    "#Definimos el origen de los vectores\n",
    "origin = [0,0,0]\n",
    "X, Y, Z = zip(origin,origin,origin) \n",
    "U, V, W = zip(v1,v2,v3)\n",
    "\n",
    "#Creamos el gráfico en 3D de los vectores\n",
    "fig = plt.figure()\n",
    "ax = fig.add_subplot(111, projection='3d')\n",
    "ax.quiver(X,Y,Z,U,V,W,arrow_length_ratio=0.01)\n",
    "plt.show()"
   ]
  },
  {
   "cell_type": "markdown",
   "metadata": {
    "id": "xjqYzvJLFoKC"
   },
   "source": [
    "**2b)** Angulos de los vectores"
   ]
  },
  {
   "cell_type": "code",
   "execution_count": 12,
   "metadata": {
    "id": "uJ1GQr8CEBTD",
    "outputId": "c6b03cb9-e331-4fcb-abac-0d94a749d3db"
   },
   "outputs": [
    {
     "name": "stdout",
     "output_type": "stream",
     "text": [
      "Angulo entre vectores v1 y v2 =  tensor(1.4840)\n",
      "Angulo entre vectores v2 y v3 =  tensor(1.2490)\n"
     ]
    }
   ],
   "source": [
    "#Importamos numpy y torch \n",
    "import numpy as np \n",
    "import torch\n",
    "\n",
    "#Al no utilizar \"torch.dot\" multiplicamos todos los valores de x*y, y los sumamos\n",
    "#Parameters: vectores x,y\n",
    "#Return: Producto Punto de los vectores\n",
    "def dot_product(x,y):\n",
    "    r = 0\n",
    "    for i in range(x.shape[0]):\n",
    "        r = r + (x[i] * y[i])\n",
    "    return r\n",
    "\n",
    "#Calcula el angulo entre los vectores dados\n",
    "#Parameters: vectores x,y\n",
    "#Return: Angulo entre vectores\n",
    "def angle_between_vectors(x,y):\n",
    "    \n",
    "    r = dot_product(x,y)\n",
    "    #print(\"producto punto x,y = \", r)\n",
    "    cos0=r / (sqrt(dot_product(x,x))*sqrt(dot_product(y,y)))\n",
    "    #print(\"cos0 = \", cos0)\n",
    "    return np.arccos(cos0)\n",
    "     \n",
    "\n",
    "#Definimos los vectores \n",
    "v1 = torch.tensor( [-0.3 , 0.8, 0.1 ]) \n",
    "v2 = torch.tensor( [0.5 , 0.2, 0.4 ]) \n",
    "v3 = torch.tensor( [1.0/sqrt(2) , -1.0/sqrt(2), 0.0 ]) \n",
    "\n",
    "#Angulos entre vectores \n",
    "print (\"Angulo entre vectores v1 y v2 = \",angle_between_vectors(v1,v2))\n",
    "print (\"Angulo entre vectores v2 y v3 = \",angle_between_vectors(v2,v3))"
   ]
  },
  {
   "cell_type": "markdown",
   "metadata": {
    "id": "aopcxKKUKhJ1"
   },
   "source": [
    "**2c)** Distancia entre vectores"
   ]
  },
  {
   "cell_type": "code",
   "execution_count": 13,
   "metadata": {
    "id": "g95ctaKcEBTE",
    "outputId": "74627b26-9472-445a-ad56-aed26f86689c"
   },
   "outputs": [
    {
     "name": "stdout",
     "output_type": "stream",
     "text": [
      "L1 entre v1 y v2 =  tensor(1.7000)\n",
      "L1 entre v2 y v3 =  tensor(1.5142)\n",
      "L2 entre v1 y v2 =  1.0440306668765056\n",
      "L2 entre v2 y v3 =  1.0127861842968333\n",
      "(torch.norm) L1 entre v1 y v2 =  tensor(1.7000)\n",
      "(torch.norm) L1 entre v2 y v3 =  tensor(1.5142)\n",
      "(torch.norm) L2 entre v1 y v2 =  tensor(1.0440)\n",
      "(torch.norm) L2 entre v2 y v3 =  tensor(1.0128)\n"
     ]
    }
   ],
   "source": [
    "#Importamos torch y numpy \n",
    "import torch\n",
    "import numpy as np \n",
    "\n",
    "#Restamos todos los valores de los vectores, distancia manhattan\n",
    "#Parameters: vectores x,y\n",
    "#Return: Producto Punto de los vectores\n",
    "def getL1(x,y):\n",
    "    r = 0\n",
    "    for i in range(x.shape[0]):\n",
    "        r = r + abs(x[i] - y[i])\n",
    "    return r\n",
    "\n",
    "#Elevamos al cuadrado los componentes del vector y hacer raíz cuadrada, distancia euclidiana\n",
    "#Parameters: vectores x,y\n",
    "#Return: Distancia euclidiana\n",
    "def getL2(x,y):\n",
    "    r = 0\n",
    "    for i in range(x.shape[0]):\n",
    "        r = r + (x[i] - y[i])**2\n",
    "    return sqrt(r)\n",
    "    \n",
    "    \n",
    "#Definimos vectores \n",
    "v1 = torch.tensor( [-0.3 , 0.8, 0.1 ]) \n",
    "v2 = torch.tensor( [0.5 , 0.2, 0.4 ]) \n",
    "v3 = torch.tensor( [1.0/sqrt(2) , -1.0/sqrt(2), 0.0 ]) \n",
    "\n",
    "#Distancias entre vectores \n",
    "dist = getL1(v1,v2)\n",
    "print(\"L1 entre v1 y v2 = \", dist)\n",
    "dist = getL1(v2,v3)\n",
    "print(\"L1 entre v2 y v3 = \",dist) \n",
    "dist = getL2(v1,v2)\n",
    "print(\"L2 entre v1 y v2 = \", dist)\n",
    "dist = getL2(v2,v3)\n",
    "print(\"L2 entre v2 y v3 = \",dist) \n",
    "\n",
    "#Usando torch.norm en vez de metodo manual obtenemos iguales resultados\n",
    "dist = torch.norm(v1 - v2, 1)\n",
    "print(\"(torch.norm) L1 entre v1 y v2 = \", dist)\n",
    "dist = torch.norm(v2 - v3, 1)\n",
    "print(\"(torch.norm) L1 entre v2 y v3 = \",dist) \n",
    "dist = torch.norm(v1 - v2, 2)\n",
    "print(\"(torch.norm) L2 entre v1 y v2 = \", dist) \n",
    "dist = torch.norm(v2 - v3, 2)\n",
    "print(\"(torch.norm) L2 entre v2 y v3 = \",dist) "
   ]
  },
  {
   "cell_type": "markdown",
   "metadata": {
    "id": "0e2chpjDTrF8"
   },
   "source": [
    "**2d)** Vector unitario "
   ]
  },
  {
   "cell_type": "code",
   "execution_count": 14,
   "metadata": {
    "id": "bQcmmPRSEBTF",
    "outputId": "3bcb653f-f2f3-4a5e-b00c-daca8a1b8899"
   },
   "outputs": [
    {
     "name": "stdout",
     "output_type": "stream",
     "text": [
      "v1 no es unitario\n",
      "v2 no es unitario\n",
      "v3 es un vector unitario\n"
     ]
    }
   ],
   "source": [
    "#Importamos las librerias de torch y numpy \n",
    "import torch\n",
    "import numpy as np \n",
    "import math\n",
    "\n",
    "#Al no utilizar \"torch.dot\" multiplicamos todos los valores de x*y, y los sumamos\n",
    "#Parameters: vectores x,y\n",
    "#Return: Producto Punto de los vectores\n",
    "def dot_product(x,y):\n",
    "    r = 0\n",
    "    for i in range(x.shape[0]):\n",
    "        r = r + (x[i] * y[i])\n",
    "    return r\n",
    "\n",
    "#Funcion binaria que calcula si un vector es unitario\n",
    "#Parameters: vector x\n",
    "#Return: resultado binario de true si es unitario\n",
    "def isUnit(x):\n",
    "    r = math.sqrt(dot_product(x,x))\n",
    "    difference = abs(1. - r);  \n",
    "  \n",
    "    if difference < 0.0001:            \n",
    "      unit = True\n",
    "    else:\n",
    "      unit = False\n",
    "    \n",
    "    return unit\n",
    "    \n",
    "\n",
    "#Definimos los vectores \n",
    "v1 = torch.tensor( [-0.3 , 0.8, 0.1 ]) \n",
    "v2 = torch.tensor( [0.5 , 0.2, 0.4 ]) \n",
    "v3 = torch.tensor( [1.0/math.sqrt(2) , -1.0/math.sqrt(2), 0.0 ]) \n",
    "\n",
    "if isUnit(v1):\n",
    "    print (\"v1 es un vector unitario\")\n",
    "else:\n",
    "    print (\"v1 no es unitario\")\n",
    "\n",
    "if isUnit(v2):\n",
    "    print (\"v2 es un vector unitario\")\n",
    "else:\n",
    "    print (\"v2 no es unitario\")\n",
    "    \n",
    "if isUnit(v3):\n",
    "    print (\"v3 es un vector unitario\")\n",
    "else:\n",
    "    print (\"v3 no es unitario\")\n",
    "    \n",
    "\n",
    "#El resultado nos muestra que el vector v3 es el vector unitario. Entiendase este como vector de módulo uno"
   ]
  },
  {
   "cell_type": "markdown",
   "metadata": {
    "id": "p73g4i4SVTBo"
   },
   "source": [
    "**2e)** Dirección de los vectores "
   ]
  },
  {
   "cell_type": "code",
   "execution_count": 15,
   "metadata": {
    "id": "bNypE1AHEBTH",
    "outputId": "28a5b064-ff9b-46df-e5fd-4f44ceb001c7"
   },
   "outputs": [
    {
     "name": "stdout",
     "output_type": "stream",
     "text": [
      "Direccion de v1 =  tensor([-0.3293,  0.8781,  0.1098,  0.3293])\n",
      "Direccion de v2 =  tensor([0.9285, 0.3714])\n",
      "Direccion de v3 =  tensor([ 0.7071, -0.7071,  0.0000])\n"
     ]
    }
   ],
   "source": [
    "#Importamos numpy y torch \n",
    "import torch\n",
    "import numpy as np \n",
    "\n",
    "#Obtiene la dirección del vector\n",
    "#Parameters: vector v\n",
    "#Return: Tensor con información de la dirección\n",
    "def getDirection(v):\n",
    "    #return v / np.linalg.norm(v)\n",
    "    return v / torch.norm(v)\n",
    "    \n",
    "\n",
    "#Definimos vectores \n",
    "v1 = torch.tensor( [-0.3 , 0.8, 0.1, 0.3 ]) \n",
    "v2 = torch.tensor( [0.5 , 0.2 ]) \n",
    "v3 = torch.tensor( [1.0/sqrt(2) , -1.0/sqrt(2), 0.0 ]) \n",
    "\n",
    "#Obtenemos la dirección de los vectores \n",
    "print (\"Direccion de v1 = \", getDirection(v1))\n",
    "print (\"Direccion de v2 = \", getDirection(v2))\n",
    "print (\"Direccion de v3 = \", getDirection(v3))\n"
   ]
  },
  {
   "cell_type": "markdown",
   "metadata": {
    "id": "5-hNjWcnEBTM"
   },
   "source": [
    "---\n",
    "\n",
    "**Pregunta 3 (10 puntos, 5 pts c/u)**\n",
    "\n",
    "Propiedades del producto punto: verifique lo siguiente. Implemente, con tensores de Pytorch, funciones para verificar el cumplimiento o no de las siguientes propiedades por medio de un ejemplo o contraejemplo. Utilice como entrada de sus funciones, arreglos de 50 elementos generados al azar.  \n",
    "\n",
    "a) Conmutatividad del producto punto, esto es $\\vec{u}\\cdot\\vec{v}=\\vec{v}\\cdot\\vec{u}$\n",
    "\n",
    "b) Distributividad del producto punto: $x · (y + z) = x · y + x · z$.\n"
   ]
  },
  {
   "cell_type": "markdown",
   "metadata": {
    "id": "r97jktZEZTkV"
   },
   "source": [
    "**3a)** Conmutatividad del producto punto"
   ]
  },
  {
   "cell_type": "code",
   "execution_count": 16,
   "metadata": {
    "id": "l-I0UGq2EBTN",
    "outputId": "076f7919-bcd5-4095-de0e-0e989c83fe3d"
   },
   "outputs": [
    {
     "name": "stdout",
     "output_type": "stream",
     "text": [
      "x tensor([-1.1258, -1.1524, -0.2506, -0.4339,  0.8487,  0.6920, -0.3160, -2.1152,\n",
      "         0.3223, -1.2633,  0.3500,  0.3081,  0.1198,  1.2377,  1.1168, -0.2473,\n",
      "        -1.3527, -1.6959,  0.5667,  0.7935,  0.5988, -1.5551, -0.3414,  1.8530,\n",
      "         0.7502, -0.5855, -0.1734,  0.1835,  1.3894,  1.5863,  0.9463, -0.8437,\n",
      "        -0.6136,  0.0316,  1.0554,  0.1778, -0.2303, -0.3918,  0.5433, -0.3952,\n",
      "         0.2055, -0.4503,  1.5210,  3.4105, -1.5312, -1.2341,  1.8197, -0.5515,\n",
      "        -1.3253,  0.1886])\n",
      "y tensor([ 1.1108e+00,  1.2899e+00, -1.4782e+00,  2.5672e+00, -4.7312e-01,\n",
      "         3.3555e-01,  1.5091e+00,  2.0820e+00, -4.7983e-01, -4.9968e-01,\n",
      "        -1.0670e+00,  1.1149e+00, -1.4067e-01,  8.0575e-01,  3.2761e-01,\n",
      "        -7.6071e-01, -8.3832e-01,  8.9182e-04,  8.4189e-01, -4.0003e-01,\n",
      "         1.0395e+00,  3.5815e-01, -3.3039e-03, -5.3444e-01, -1.8817e+00,\n",
      "        -4.9727e-02, -1.0450e+00, -9.5650e-01,  3.3532e-02,  7.1009e-01,\n",
      "        -1.5353e+00, -4.1268e-01,  3.4457e-01,  5.1987e-01,  9.6252e-01,\n",
      "         3.4917e-01, -9.2146e-01, -5.6195e-02, -7.0152e-01,  1.0367e+00,\n",
      "        -6.0367e-01, -1.2788e+00,  1.2390e-01,  1.1648e+00,  9.2337e-01,\n",
      "         1.3873e+00,  1.3750e+00,  6.5963e-01,  4.7656e-01, -1.0163e+00])\n",
      "Los vectores son conmutativos \n"
     ]
    }
   ],
   "source": [
    "#Se importa torch y math \n",
    "import torch as torch\n",
    "from math import sqrt, exp\n",
    "\n",
    "#Realiza las operaciones de producto punto de forma conmutativa para comprobar si el resultado es igual\n",
    "#Parameters: vectores x,y\n",
    "#Return: Si la operacion es conmutativa\n",
    "def checkConmutatividad(x,y):\n",
    "    \n",
    "    left = torch.dot (x,y)\n",
    "    right = torch.dot (y,x)\n",
    "  \n",
    "    mensaje = \"\"\n",
    "    #print(right, left)\n",
    "    if torch.equal(left, right):            \n",
    "        mensaje = \"Los vectores son conmutativos \"\n",
    "    else:\n",
    "        mensaje = \"No hay conmutatividad \"\n",
    "    return mensaje\n",
    "  \n",
    "\n",
    "torch.manual_seed(0)\n",
    "  \n",
    "# Random tensor1 \n",
    "x = torch.randn(50)\n",
    "print(\"x\", x )\n",
    "\n",
    "#Random tensor2\n",
    "y = torch.randn(50)\n",
    "print(\"y\", y )\n",
    "\n",
    "print (checkConmutatividad(x,y))\n",
    "\n",
    "#De acuerdo el vector es conmutativo es decir u*v=v*u"
   ]
  },
  {
   "cell_type": "markdown",
   "metadata": {
    "id": "Dn4fwf31Z2tD"
   },
   "source": [
    "\n",
    "**3b)** Distributividad del producto\n",
    "\n"
   ]
  },
  {
   "cell_type": "code",
   "execution_count": 17,
   "metadata": {
    "id": "Y-PqFk9rEBTO",
    "outputId": "a5a95760-ab4b-4288-eb82-16cc27fcecbd"
   },
   "outputs": [
    {
     "name": "stdout",
     "output_type": "stream",
     "text": [
      "x tensor([-1.1258, -1.1524, -0.2506, -0.4339,  0.8487,  0.6920, -0.3160, -2.1152,\n",
      "         0.3223, -1.2633,  0.3500,  0.3081,  0.1198,  1.2377,  1.1168, -0.2473,\n",
      "        -1.3527, -1.6959,  0.5667,  0.7935,  0.5988, -1.5551, -0.3414,  1.8530,\n",
      "         0.7502, -0.5855, -0.1734,  0.1835,  1.3894,  1.5863,  0.9463, -0.8437,\n",
      "        -0.6136,  0.0316,  1.0554,  0.1778, -0.2303, -0.3918,  0.5433, -0.3952,\n",
      "         0.2055, -0.4503,  1.5210,  3.4105, -1.5312, -1.2341,  1.8197, -0.5515,\n",
      "        -1.3253,  0.1886])\n",
      "y tensor([ 1.1108e+00,  1.2899e+00, -1.4782e+00,  2.5672e+00, -4.7312e-01,\n",
      "         3.3555e-01,  1.5091e+00,  2.0820e+00, -4.7983e-01, -4.9968e-01,\n",
      "        -1.0670e+00,  1.1149e+00, -1.4067e-01,  8.0575e-01,  3.2761e-01,\n",
      "        -7.6071e-01, -8.3832e-01,  8.9182e-04,  8.4189e-01, -4.0003e-01,\n",
      "         1.0395e+00,  3.5815e-01, -3.3039e-03, -5.3444e-01, -1.8817e+00,\n",
      "        -4.9727e-02, -1.0450e+00, -9.5650e-01,  3.3532e-02,  7.1009e-01,\n",
      "        -1.5353e+00, -4.1268e-01,  3.4457e-01,  5.1987e-01,  9.6252e-01,\n",
      "         3.4917e-01, -9.2146e-01, -5.6195e-02, -7.0152e-01,  1.0367e+00,\n",
      "        -6.0367e-01, -1.2788e+00,  1.2390e-01,  1.1648e+00,  9.2337e-01,\n",
      "         1.3873e+00,  1.3750e+00,  6.5963e-01,  4.7656e-01, -1.0163e+00])\n",
      "z tensor([ 0.6104,  0.4669,  1.9507, -1.0631,  1.1404, -0.0899,  0.7298, -1.8453,\n",
      "        -0.1021, -1.0335, -0.3126,  0.2458,  0.3772,  1.1012, -1.1428,  0.0376,\n",
      "         0.2886,  0.3866, -0.2011, -0.1179, -0.8294, -1.4073,  1.6268,  0.1723,\n",
      "        -0.7043,  0.3147,  0.1574,  0.3854,  0.5737,  0.9979,  0.5436,  0.0788,\n",
      "         0.9985, -0.4987,  1.5735,  0.7814,  0.9874, -1.4878,  0.5867,  0.1583,\n",
      "         0.1102, -0.8188, -1.1894, -1.1959,  1.3119, -0.2098,  0.7817,  0.9897,\n",
      "         0.4147, -1.5090])\n",
      "tensor(-2.7337) tensor(-2.7337)\n",
      "Se comprueba distribuitividad tensor(4.7684e-07)\n"
     ]
    }
   ],
   "source": [
    "#Importamos librerias torch y math \n",
    "import torch as torch\n",
    "from math import sqrt, exp\n",
    "  \n",
    "\n",
    "#Realiza la comprobación de distributividad en el producto punto.\n",
    "#Parameters: vectores x,y,z\n",
    "#Return: Si la operacion es distributiva\n",
    "def checkDistributividad(x,y,z):\n",
    "    left = torch.dot(x, (y + z))\n",
    "    right = torch.dot (x,y) + torch.dot (x,z)\n",
    "  \n",
    "    \n",
    "    print(left, right)\n",
    "  \n",
    "    difference = torch.abs(right - left);  \n",
    "    sumDifference = difference.sum()\n",
    "  \n",
    "    mensaje = \"\"\n",
    "    #print(right, left)\n",
    "    if sumDifference < 0.0001:            \n",
    "      mensaje = \"Se comprueba distribuitividad \" + str(sumDifference)\n",
    "    else:\n",
    "      mensaje = \"No hay distributividad \" + str(sumDifference)\n",
    "    return mensaje\n",
    "    \n",
    "\n",
    "torch.manual_seed(0)\n",
    "  \n",
    "# Random tensor1 \n",
    "x = torch.randn(50)\n",
    "print(\"x\", x )\n",
    "\n",
    "#Random tensor2\n",
    "y = torch.randn(50)\n",
    "print(\"y\", y )\n",
    "\n",
    "#Random tensor3\n",
    "z = torch.randn(50)\n",
    "print(\"z\", z )\n",
    "\n",
    "print (checkDistributividad(x,y,z))"
   ]
  }
 ],
 "metadata": {
  "colab": {
   "collapsed_sections": [],
   "name": "TP1_2_3 (1).ipynb",
   "provenance": []
  },
  "kernelspec": {
   "display_name": "Python 3",
   "language": "python",
   "name": "python3"
  },
  "language_info": {
   "codemirror_mode": {
    "name": "ipython",
    "version": 3
   },
   "file_extension": ".py",
   "mimetype": "text/x-python",
   "name": "python",
   "nbconvert_exporter": "python",
   "pygments_lexer": "ipython3",
   "version": "3.8.8"
  }
 },
 "nbformat": 4,
 "nbformat_minor": 1
}
